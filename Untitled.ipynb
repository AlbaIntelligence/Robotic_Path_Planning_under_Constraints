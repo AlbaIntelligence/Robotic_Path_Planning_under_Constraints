{
 "cells": [
  {
   "cell_type": "code",
   "execution_count": 3,
   "id": "compatible-finder",
   "metadata": {},
   "outputs": [
    {
     "data": {
      "text/plain": [
       "shelf_pickup (generic function with 1 method)"
      ]
     },
     "execution_count": 3,
     "metadata": {},
     "output_type": "execute_result"
    }
   ],
   "source": [
    "# Constants\n",
    "n_aisle = 5 # number of aisles\n",
    "l_aisle = 20 # length \n",
    "n_robots = 3\n",
    "\n",
    "fwd_speed = 1.95\n",
    "bck_speed = 0.75\n",
    "\n",
    "cell_size = 2.9 # horizontal distance b/w 2 shelves\n",
    "fwd_time = cell_size / fwd_speed\n",
    "bck_time = cell_size / bck_speed\n",
    "\n",
    "shelf_time = 3 # time to go up / down one level\n",
    "pick_time = 3 # time to pick a pallette in/out\n",
    "\n",
    "function shelf_pickup(level) \n",
    "    return 2 * shelf_time * level + pick_time \n",
    "end"
   ]
  },
  {
   "cell_type": "code",
   "execution_count": 5,
   "id": "certified-royalty",
   "metadata": {},
   "outputs": [
    {
     "data": {
      "text/plain": [
       "(0, 11)"
      ]
     },
     "execution_count": 5,
     "metadata": {},
     "output_type": "execute_result"
    }
   ],
   "source": [
    "Conv_1 = (0, 1) # Conveyor 1\n",
    "Exit = (0, 2 * n_aisle + 1) # Delivery point - assume shelf width = 1"
   ]
  },
  {
   "cell_type": "raw",
   "id": "combined-playing",
   "metadata": {},
   "source": [
    "mutable struct AGV"
   ]
  }
 ],
 "metadata": {
  "kernelspec": {
   "display_name": "Julia 1.6.0",
   "language": "julia",
   "name": "julia-1.6"
  },
  "language_info": {
   "file_extension": ".jl",
   "mimetype": "application/julia",
   "name": "julia",
   "version": "1.6.0"
  },
  "toc": {
   "base_numbering": 1,
   "nav_menu": {},
   "number_sections": true,
   "sideBar": true,
   "skip_h1_title": false,
   "title_cell": "Table of Contents",
   "title_sidebar": "Contents",
   "toc_cell": false,
   "toc_position": {},
   "toc_section_display": true,
   "toc_window_display": false
  }
 },
 "nbformat": 4,
 "nbformat_minor": 5
}
