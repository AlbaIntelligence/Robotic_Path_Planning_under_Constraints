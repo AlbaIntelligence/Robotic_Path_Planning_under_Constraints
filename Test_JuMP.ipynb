{
 "cells": [
  {
   "cell_type": "code",
   "execution_count": 1,
   "id": "fossil-boulder",
   "metadata": {},
   "outputs": [],
   "source": [
    "using JuMP\n",
    "import GLPK\n",
    "import Test"
   ]
  },
  {
   "cell_type": "code",
   "execution_count": 2,
   "id": "funded-athens",
   "metadata": {},
   "outputs": [
    {
     "data": {
      "text/plain": [
       "print_solution (generic function with 1 method)"
      ]
     },
     "execution_count": 2,
     "metadata": {},
     "output_type": "execute_result"
    }
   ],
   "source": [
    "function print_solution(is_optimal, foods, buy)\n",
    "    println(\"RESULTS:\")\n",
    "    if is_optimal\n",
    "        for food in foods\n",
    "            println(\"  $(food) = $(value(buy[food]))\")\n",
    "        end\n",
    "    else\n",
    "        println(\"The solver did not find an optimal solution.\")\n",
    "    end\n",
    "end"
   ]
  },
  {
   "cell_type": "code",
   "execution_count": 6,
   "id": "alert-blond",
   "metadata": {},
   "outputs": [
    {
     "data": {
      "text/plain": [
       "example_diet (generic function with 1 method)"
      ]
     },
     "execution_count": 6,
     "metadata": {},
     "output_type": "execute_result"
    }
   ],
   "source": [
    "function example_diet(; verbose = true)\n",
    "    \n",
    "    # Nutrition guidelines\n",
    "    categories = [\"calories\", \"protein\", \"fat\", \"sodium\"]\n",
    "    category_data = Containers.DenseAxisArray([\n",
    "        1800 2200;\n",
    "        91   Inf;\n",
    "        0    65;\n",
    "        0    1779\n",
    "        ], categories, [\"min\", \"max\"]\n",
    "    )\n",
    "    Test.@test category_data[\"protein\", \"min\"] == 91.0\n",
    "    Test.@test category_data[\"sodium\", \"max\"] == 1779.0\n",
    "    \n",
    "    # Foods\n",
    "    foods = [\n",
    "        \"hamburger\", \"chicken\", \"hot dog\", \"fries\", \"macaroni\", \"pizza\",\n",
    "        \"salad\", \"milk\", \"ice cream\",\n",
    "    ]\n",
    "    cost = Containers.DenseAxisArray(\n",
    "        [2.49, 2.89, 1.50, 1.89, 2.09, 1.99, 2.49, 0.89, 1.59],\n",
    "        foods\n",
    "    )\n",
    "    food_data = Containers.DenseAxisArray(\n",
    "        [\n",
    "            410 24 26 730;\n",
    "            420 32 10 1190;\n",
    "            560 20 32 1800;\n",
    "            380  4 19 270;\n",
    "            320 12 10 930;\n",
    "            320 15 12 820;\n",
    "            320 31 12 1230;\n",
    "            100  8 2.5 125;\n",
    "            330  8 10 180\n",
    "        ], foods, categories\n",
    "    )\n",
    "    Test.@test food_data[\"hamburger\", \"calories\"] == 410.0\n",
    "    Test.@test food_data[\"milk\", \"fat\"] == 2.5\n",
    "    \n",
    "    # Build model\n",
    "    model = Model(GLPK.Optimizer)\n",
    "    @variables(model, begin\n",
    "        # Variables for nutrition info\n",
    "        category_data[c, \"min\"] <= nutrition[c = categories] <= category_data[c, \"max\"]\n",
    "        # Variables for which foods to buy\n",
    "        buy[foods] >= 0\n",
    "    end)\n",
    "    \n",
    "    # Objective - minimize cost\n",
    "    @objective(model, Min, sum(cost[f] * buy[f] for f in foods))\n",
    "    \n",
    "    # Nutrition constraints\n",
    "    @constraint(model, [c in categories],\n",
    "        sum(food_data[f, c] * buy[f] for f in foods) == nutrition[c]\n",
    "    )\n",
    "    \n",
    "    # Solve\n",
    "    if verbose\n",
    "        println(\"Solving original problem...\")\n",
    "    end\n",
    "    optimize!(model)\n",
    "    term_status = termination_status(model)\n",
    "    is_optimal = term_status == MOI.OPTIMAL\n",
    "    Test.@test primal_status(model) == MOI.FEASIBLE_POINT\n",
    "    Test.@test objective_value(model) ≈ 11.8288 atol = 1e-4\n",
    "    if verbose\n",
    "        print_solution(is_optimal, foods, buy)\n",
    "    end\n",
    "    \n",
    "    # Limit dairy (note that the problem will become infeasible).\n",
    "    @constraint(model, buy[\"milk\"] + buy[\"ice cream\"] <= 6)\n",
    "    if verbose\n",
    "        println(\"Solving dairy-limited problem...\")\n",
    "    end\n",
    "    optimize!(model)\n",
    "    Test.@test termination_status(model) == MOI.INFEASIBLE\n",
    "    Test.@test primal_status(model) == MOI.NO_SOLUTION\n",
    "    if verbose\n",
    "        print_solution(false, foods, buy)\n",
    "    end\n",
    "    return\n",
    "end"
   ]
  },
  {
   "cell_type": "code",
   "execution_count": null,
   "id": "agricultural-stroke",
   "metadata": {},
   "outputs": [],
   "source": []
  },
  {
   "cell_type": "code",
   "execution_count": 5,
   "id": "bronze-nursing",
   "metadata": {},
   "outputs": [
    {
     "name": "stdout",
     "output_type": "stream",
     "text": [
      "Solving original problem...\n",
      "RESULTS:\n",
      "  hamburger = 0.6045138888888888\n",
      "  chicken = 0.0\n",
      "  hot dog = 0.0\n",
      "  fries = 0.0\n",
      "  macaroni = 0.0\n",
      "  pizza = 0.0\n",
      "  salad = 0.0\n",
      "  milk = 6.9701388888888935\n",
      "  ice cream = 2.591319444444441\n",
      "Solving dairy-limited problem...\n",
      "RESULTS:\n",
      "The solver did not find an optimal solution.\n"
     ]
    }
   ],
   "source": [
    "example_diet()"
   ]
  },
  {
   "cell_type": "code",
   "execution_count": 11,
   "id": "knowing-outdoors",
   "metadata": {},
   "outputs": [
    {
     "data": {
      "text/plain": [
       "example (generic function with 1 method)"
      ]
     },
     "execution_count": 11,
     "metadata": {},
     "output_type": "execute_result"
    }
   ],
   "source": [
    "function example(; verbose = true)\n",
    "    \n",
    "    \n",
    "\n",
    "    # Direction\n",
    "    categories = [\"calories\", \"protein\", \"fat\", \"sodium\"]\n",
    "    category_data = Containers.DenseAxisArray([\n",
    "        1800 2200;\n",
    "        91   Inf;\n",
    "        0    65;\n",
    "        0    1779\n",
    "        ], categories, [\"min\", \"max\"]\n",
    "    )\n",
    "    Test.@test category_data[\"protein\", \"min\"] == 91.0\n",
    "    Test.@test category_data[\"sodium\", \"max\"] == 1779.0\n",
    "    \n",
    "    # Foods\n",
    "    foods = [\n",
    "        \"hamburger\", \"chicken\", \"hot dog\", \"fries\", \"macaroni\", \"pizza\",\n",
    "        \"salad\", \"milk\", \"ice cream\",\n",
    "    ]\n",
    "    cost = Containers.DenseAxisArray(\n",
    "        [2.49, 2.89, 1.50, 1.89, 2.09, 1.99, 2.49, 0.89, 1.59],\n",
    "        foods\n",
    "    )\n",
    "    food_data = Containers.DenseAxisArray(\n",
    "        [\n",
    "            410 24 26 730;\n",
    "            420 32 10 1190;\n",
    "            560 20 32 1800;\n",
    "            380  4 19 270;\n",
    "            320 12 10 930;\n",
    "            320 15 12 820;\n",
    "            320 31 12 1230;\n",
    "            100  8 2.5 125;\n",
    "            330  8 10 180\n",
    "        ], foods, categories\n",
    "    )\n",
    "    Test.@test food_data[\"hamburger\", \"calories\"] == 410.0\n",
    "    Test.@test food_data[\"milk\", \"fat\"] == 2.5\n",
    "    \n",
    "    # Solve\n",
    "    if verbose\n",
    "        println(\"Solving original problem...\")\n",
    "    end\n",
    "    optimize!(model)\n",
    "    term_status = termination_status(model)\n",
    "    is_optimal = term_status == MOI.OPTIMAL\n",
    "    Test.@test primal_status(model) == MOI.FEASIBLE_POINT\n",
    "    Test.@test objective_value(model) ≈ 11.8288 atol = 1e-4\n",
    "    if verbose\n",
    "        print_solution(is_optimal, foods, buy)\n",
    "    end\n",
    "    \n",
    "    # Limit dairy (note that the problem will become infeasible).\n",
    "    @constraint(model, buy[\"milk\"] + buy[\"ice cream\"] <= 6)\n",
    "    if verbose\n",
    "        println(\"Solving dairy-limited problem...\")\n",
    "    end\n",
    "    optimize!(model)\n",
    "    Test.@test termination_status(model) == MOI.INFEASIBLE\n",
    "    Test.@test primal_status(model) == MOI.NO_SOLUTION\n",
    "    if verbose\n",
    "        print_solution(false, foods, buy)\n",
    "    end\n",
    "    return\n",
    "end"
   ]
  },
  {
   "cell_type": "code",
   "execution_count": 28,
   "id": "convertible-sandwich",
   "metadata": {},
   "outputs": [
    {
     "data": {
      "text/plain": [
       "2"
      ]
     },
     "execution_count": 28,
     "metadata": {},
     "output_type": "execute_result"
    }
   ],
   "source": [
    "Axis = [\"x\", \"y\"]\n",
    "\n",
    "FloorPlan = [ \n",
    "        0 0 0 0 0 ;\n",
    "        1 0 1 0 1 ;\n",
    "        1 0 1 0 1 ;\n",
    "        1 0 1 0 1 ;\n",
    "        1 0 1 0 1 ;\n",
    "        1 0 1 0 1 ;\n",
    "        1 0 1 0 1 ;\n",
    "        1 0 1 0 1 ;\n",
    "        1 0 1 0 1 ;\n",
    "        0 0 0 0 0 ]\n",
    "\n",
    "nBots = 2"
   ]
  },
  {
   "cell_type": "code",
   "execution_count": 47,
   "id": "uniform-kennedy",
   "metadata": {},
   "outputs": [],
   "source": [
    "# Build model\n",
    "model = Model(GLPK.Optimizer)\n",
    "\n",
    "@variables(model, \n",
    "    begin\n",
    "        # Each bot has a position\n",
    "        X[1:nBots]\n",
    "        Y[1:nBots]\n",
    "\n",
    "        # ... a direction\n",
    "        Dir[1:nBots]\n",
    "    end)"
   ]
  },
  {
   "cell_type": "code",
   "execution_count": 48,
   "id": "answering-liberal",
   "metadata": {},
   "outputs": [
    {
     "ename": "LoadError",
     "evalue": "MethodError: no method matching abs(::AffExpr)\n\u001b[0mClosest candidates are:\n\u001b[0m  abs(\u001b[91m::ForwardDiff.Dual{T, V, N} where {V, N}\u001b[39m) where T at /home/emmanuel/.julia/packages/ForwardDiff/sqhTO/src/dual.jl:201\n\u001b[0m  abs(\u001b[91m::T\u001b[39m) where T<:Dates.Period at /buildworker/worker/package_linux64/build/usr/share/julia/stdlib/v1.6/Dates/src/periods.jl:102\n\u001b[0m  abs(\u001b[91m::Rational\u001b[39m) at rational.jl:258\n\u001b[0m  ...",
     "output_type": "error",
     "traceback": [
      "MethodError: no method matching abs(::AffExpr)\n\u001b[0mClosest candidates are:\n\u001b[0m  abs(\u001b[91m::ForwardDiff.Dual{T, V, N} where {V, N}\u001b[39m) where T at /home/emmanuel/.julia/packages/ForwardDiff/sqhTO/src/dual.jl:201\n\u001b[0m  abs(\u001b[91m::T\u001b[39m) where T<:Dates.Period at /buildworker/worker/package_linux64/build/usr/share/julia/stdlib/v1.6/Dates/src/periods.jl:102\n\u001b[0m  abs(\u001b[91m::Rational\u001b[39m) at rational.jl:258\n\u001b[0m  ...",
      "",
      "Stacktrace:",
      "  [1] macro expansion",
      "    @ ~/.julia/packages/MutableArithmetics/bPWR4/src/rewrite.jl:276 [inlined]",
      "  [2] macro expansion",
      "    @ ~/.julia/packages/JuMP/qhoVb/src/macros.jl:440 [inlined]",
      "  [3] (::var\"#98#103\")(i::Int64, j::Int64)",
      "    @ Main ~/.julia/packages/JuMP/qhoVb/src/Containers/macro.jl:183",
      "  [4] (::JuMP.Containers.var\"#30#31\"{var\"#98#103\"})(I::Tuple{Int64, Int64})",
      "    @ JuMP.Containers ~/.julia/packages/JuMP/qhoVb/src/Containers/container.jl:94",
      "  [5] iterate",
      "    @ ./generator.jl:47 [inlined]",
      "  [6] grow_to!(dest::JuMP.Containers.NoDuplicateDict{Any, Any}, itr::Base.Generator{JuMP.Containers.NestedIterator{Tuple{var\"#99#104\", var\"#100#105\"}, JuMP.Containers.var\"#20#22\"}, JuMP.Containers.var\"#30#31\"{var\"#98#103\"}})",
      "    @ Base ./dict.jl:140",
      "  [7] dict_with_eltype",
      "    @ ./abstractdict.jl:545 [inlined]",
      "  [8] JuMP.Containers.NoDuplicateDict(it::Base.Generator{JuMP.Containers.NestedIterator{Tuple{var\"#99#104\", var\"#100#105\"}, JuMP.Containers.var\"#20#22\"}, JuMP.Containers.var\"#30#31\"{var\"#98#103\"}})",
      "    @ JuMP.Containers ~/.julia/packages/JuMP/qhoVb/src/Containers/no_duplicate_dict.jl:39",
      "  [9] container(f::Function, indices::JuMP.Containers.NestedIterator{Tuple{var\"#99#104\", var\"#100#105\"}, JuMP.Containers.var\"#20#22\"}, #unused#::Type{JuMP.Containers.SparseAxisArray})",
      "    @ JuMP.Containers ~/.julia/packages/JuMP/qhoVb/src/Containers/container.jl:96",
      " [10] container(f::Function, indices::JuMP.Containers.NestedIterator{Tuple{var\"#99#104\", var\"#100#105\"}, JuMP.Containers.var\"#20#22\"})",
      "    @ JuMP.Containers ~/.julia/packages/JuMP/qhoVb/src/Containers/container.jl:65",
      " [11] macro expansion",
      "    @ ~/.julia/packages/JuMP/qhoVb/src/macros.jl:91 [inlined]",
      " [12] top-level scope",
      "    @ In[48]:6",
      " [13] eval",
      "    @ ./boot.jl:360 [inlined]",
      " [14] include_string(mapexpr::typeof(REPL.softscope), mod::Module, code::String, filename::String)",
      "    @ Base ./loading.jl:1094"
     ]
    }
   ],
   "source": [
    "# Position of each bot\n",
    "@constraints(model, \n",
    "    begin\n",
    "        PositionX[i in 1:nBots], 1 <= X[i] <= 5\n",
    "        PositionY[i in 1:nBots], 1 <= Y[i] <= 5\n",
    "        NoCollision[i in 1:(nBots-1), j in i:nBots], 1 <= abs(X[i] - X[j]) + abs(Y[i] - Y[j]) \n",
    "    end\n",
    "    )\n",
    "\n"
   ]
  },
  {
   "cell_type": "code",
   "execution_count": 21,
   "id": "happy-harrison",
   "metadata": {},
   "outputs": [
    {
     "data": {
      "text/plain": [
       "0"
      ]
     },
     "execution_count": 21,
     "metadata": {},
     "output_type": "execute_result"
    }
   ],
   "source": [
    "FloorPlan[1, 3]"
   ]
  },
  {
   "cell_type": "code",
   "execution_count": null,
   "id": "retired-dispatch",
   "metadata": {},
   "outputs": [],
   "source": [
    "# Objective - minimize cost\n",
    "@objective(model, Min, sum(cost[f] * buy[f] for f in foods))"
   ]
  },
  {
   "cell_type": "code",
   "execution_count": 14,
   "id": "homeless-insight",
   "metadata": {},
   "outputs": [
    {
     "data": {
      "text/plain": [
       "1×2 Matrix{String}:\n",
       " \"a\"  \"b\""
      ]
     },
     "execution_count": 14,
     "metadata": {},
     "output_type": "execute_result"
    }
   ],
   "source": []
  }
 ],
 "metadata": {
  "kernelspec": {
   "display_name": "Julia 1.6.0",
   "language": "julia",
   "name": "julia-1.6"
  },
  "language_info": {
   "file_extension": ".jl",
   "mimetype": "application/julia",
   "name": "julia",
   "version": "1.6.0"
  },
  "toc": {
   "base_numbering": 1,
   "nav_menu": {},
   "number_sections": true,
   "sideBar": true,
   "skip_h1_title": false,
   "title_cell": "Table of Contents",
   "title_sidebar": "Contents",
   "toc_cell": false,
   "toc_position": {},
   "toc_section_display": true,
   "toc_window_display": false
  }
 },
 "nbformat": 4,
 "nbformat_minor": 5
}
