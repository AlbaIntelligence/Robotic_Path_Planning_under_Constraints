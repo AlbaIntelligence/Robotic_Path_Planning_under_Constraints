{
 "cells": [
  {
   "cell_type": "code",
   "execution_count": 1,
   "metadata": {
    "dotnet_interactive": {
     "language": "csharp"
    }
   },
   "outputs": [
    {
     "data": {
      "text/plain": [
       "shelf_pickup (generic function with 1 method)"
      ]
     },
     "execution_count": 1,
     "metadata": {},
     "output_type": "execute_result"
    }
   ],
   "source": [
    "# Constants\n",
    "n_aisle = 5 # number of aisles\n",
    "l_aisle = 20 # length \n",
    "n_robots = 3\n",
    "\n",
    "# Speeds m/s\n",
    "fwd_speed = 1.95\n",
    "bck_speed = 0.75\n",
    "rot_speed = 0.45\n",
    "\n",
    "cell_size = 2.9 # horizontal distance b/w 2 shelves\n",
    "fwd_time = cell_size / fwd_speed\n",
    "bck_time = cell_size / bck_speed\n",
    "\n",
    "shelf_height = 6 # max levels (1 = ground)\n",
    "shelf_time = 3.0 # time to go up / down one level\n",
    "pick_time = 3.0 # time to pick a pallette in/out\n",
    "\n",
    "# Level start from 1 !!\n",
    "function shelf_pickup(level::UInt16)::Float32\n",
    "    return 2 * shelf_time * (level - 1) + pick_time \n",
    "end"
   ]
  },
  {
   "cell_type": "code",
   "execution_count": 1,
   "metadata": {
    "dotnet_interactive": {
     "language": "csharp"
    }
   },
   "outputs": [],
   "source": [
    "@enum Direction Up Down Left Right\n",
    "\n",
    "# Any \"geolocated\" object\n",
    "abstract type AbstractLocatedObject end\n",
    "\n",
    "# 32,768 should be enough for position\n",
    "struct AGV <: AbstractLocatedObject\n",
    "    x::Int16\n",
    "    y::Int16\n",
    "    dir::Direction\n",
    "    hasPalette::Bool\n",
    "    \n",
    "    AGV(x, y, d, p) = x < 1 || x > 2 * n_aisle || \n",
    "                      y < -1 || y > l_aisle + 1 ? error(\"Coordinates out of range\") : new(x, y, d, p)  \n",
    "end\n",
    "\n",
    "struct Palette <: AbstractLocatedObject\n",
    "    x::Int16\n",
    "    y::Int16\n",
    "    level::UInt16\n",
    "    \n",
    "    Palette(x, y, level) = x < 1 || x > 2 * n_aisle - 1 || \n",
    "                           y < 1 || y > l_aisle ||     \n",
    "                          level < 1 || level > shelf_height ? error(\"Values out of range\") : new(x, y, level)  \n",
    "end\n",
    "\n",
    "struct FloorPosition <: AbstractLocatedObject\n",
    "    x::Int16\n",
    "    y::Int16\n",
    "    FloorPosition(x, y) = x < 1  || x > 2 * n_aisle || \n",
    "                          y < -1 || y > l_aisle + 1 ? error(\"Coordinates out of range\") : new(x, y)  \n",
    "end"
   ]
  },
  {
   "cell_type": "code",
   "execution_count": 1,
   "metadata": {
    "dotnet_interactive": {
     "language": "csharp"
    }
   },
   "outputs": [
    {
     "data": {
      "text/plain": [
       "FloorPosition(9, -1)"
      ]
     },
     "execution_count": 1,
     "metadata": {},
     "output_type": "execute_result"
    }
   ],
   "source": [
    "Conv_1 = FloorPosition(1, -1) # Conveyor 1\n",
    "Exit = FloorPosition(2 * n_aisle - 1, -1) # Delivery point - assume shelf width = 1"
   ]
  },
  {
   "cell_type": "markdown",
   "metadata": {},
   "source": [
    "Time is the measure/cost by which everything is measured.\n"
   ]
  },
  {
   "cell_type": "code",
   "execution_count": 1,
   "metadata": {
    "dotnet_interactive": {
     "language": "csharp"
    }
   },
   "outputs": [
    {
     "data": {
      "text/plain": [
       "time_to_palette (generic function with 1 method)"
      ]
     },
     "execution_count": 1,
     "metadata": {},
     "output_type": "execute_result"
    }
   ],
   "source": [
    "# Generic function depending on the location considered\n",
    "function time_to_point(robot::AGV, palette::Palette) \n",
    "    return time_to_palette(robot::AGV, palette::Palette)\n",
    "end\n",
    "\n",
    "# Time to a palette. Time is identical to load/unload\n",
    "\n",
    "# Returns the distance (in time from robot to palette) + direction in which to starts the movement\n",
    "function time_to_palette(robot::AGV, palette::Palette)\n",
    "    \n",
    "    # If robot already carries a palette, extremely high distance to never target one.\n",
    "    if robot.hasPalette == true\n",
    "        return (1.0f9, robot.dir)\n",
    "    end\n",
    "    \n",
    "    # The robot can travel all the way forward or backward\n",
    "    # and going up or down\n",
    "    \n",
    "    la = Float32(l_aisle)\n",
    "    rx = Float32(robot.x)\n",
    "    ry = Float32(robot.y)\n",
    "    px = Float32(palette.x)\n",
    "    py = Float32(palette.y)\n",
    "\n",
    "    # x time is just number of cells x time per cell\n",
    "    fwd_t_x = 2 * abs(rx - px) * fwd_time\n",
    "    bck_t_x = 2 * abs(rx - px) * bck_time\n",
    "\n",
    "    # print(robot.x, \" \", palette.x, \" \", fwd_t_x, \" \", bck_t_x, \"\\n\")\n",
    "    \n",
    "    #  y time depends on the direction faced \n",
    "    # Final time is sum of all + time to get palette\n",
    "    if robot.dir == Up \n",
    "        \n",
    "        # If in the same aisle in front of robot, fwd short, bck full circle \n",
    "        # crossing next aisle = 2, entering/exiting aisle = 1\n",
    "        if (robot.x == palette.x) && (palette.y >= robot.y)\n",
    "            fwd_t_y = (py - ry) * fwd_time\n",
    "            bck_t_y = ((ry - 1) + 1 + 2 + 1 + (la - 1) + 1 + 2 + 1 + la - py) * bck_time\n",
    "            \n",
    "        # If in the same aisle behind robot => full circle \n",
    "        elseif (robot.x == palette.x) && (palette.y < robot.y)\n",
    "            fwd_t_y = ((la - ry) + 1 + 2 + 1 + (la - 1) + 1 + 2 + 1 + (py - 1)) * fwd_time\n",
    "            bck_t_y = (ry - py) * bck_time\n",
    "            \n",
    "        else\n",
    "            # Going fwd pointing up: to go to last cell in aisle + 1 to horizontal lane + down to palette\n",
    "            # Going bck pointing up: opposite trajectory\n",
    "            fwd_t_y = (la - ry + 1 + 2 + 1 + la - py) * fwd_time\n",
    "            bck_t_y = ((ry - 1) + 1 + 2 + 1 + (py - 1)) * bck_time\n",
    "        end\n",
    "        \n",
    "        fwd_total = fwd_t_x + fwd_t_y + shelf_pickup(palette.level)\n",
    "        bck_total = bck_t_x + bck_t_y + shelf_pickup(palette.level)\n",
    "        \n",
    "        # print(robot.dir, \" \", fwd_t_y, \" \", bck_t_y, \" \", fwd_up_total, \" \", bck_down_total)\n",
    "        \n",
    "        if fwd_total <= bck_total\n",
    "            return (fwd_total, Up)\n",
    "        else\n",
    "            return (bck_total, Down)\n",
    "        end\n",
    "        \n",
    "    else # If robot facing down\n",
    "        if (robot.x == palette.x) & (palette.y <= robot.y)\n",
    "            fwd_t_y = (ry - py) * fwd_time\n",
    "            bck_t_y = ((la - ry) + 1 + 2 + 1 + (la - 1) + 1 + 2 + 1 + (py - 1)) * bck_time\n",
    "            \n",
    "        # If in the same aisle behind robot => full circle \n",
    "        elseif (robot.x == palette.x) & (palette.y > robot.y)\n",
    "            fwd_t_y = ((ry - 1) + 1 + 2 + 1 + (la - 1) + 1 + 2 + 1 + (la - py)) * fwd_time\n",
    "            bck_t_y = (py - ry) * bck_time\n",
    "            \n",
    "        else\n",
    "            # Going fwd pointing up: to go to last cell in aisle + 1 to horizontal lane + down to palette\n",
    "            # Going bck pointing up: opposite trajectory\n",
    "            fwd_t_y = (la - ry + 1 + 2 + 1 + la - py) * fwd_time\n",
    "            bck_t_y = ((ry - 1) + 1 + 2 + 1 + (py - 1)) * bck_time\n",
    "        end\n",
    "        \n",
    "        fwd_total = fwd_t_x + fwd_t_y + shelf_pickup(palette.level)\n",
    "        bck_total = bck_t_x + bck_t_y + shelf_pickup(palette.level)\n",
    "        \n",
    "        # print(robot.dir, \" \", fwd_t_y, \" \", bck_t_y, \" \", fwd_up_total, \" \", bck_down_total)\n",
    "        \n",
    "        if fwd_total <= bck_total\n",
    "            return (fwd_total, Down)\n",
    "        else\n",
    "            return (bck_total, Up)\n",
    "        end\n",
    "        \n",
    "    end\n",
    "        \n",
    "end"
   ]
  },
  {
   "cell_type": "code",
   "execution_count": 1,
   "metadata": {
    "dotnet_interactive": {
     "language": "csharp"
    }
   },
   "outputs": [
    {
     "data": {
      "text/plain": [
       "(1.0f9, Up)"
      ]
     },
     "execution_count": 1,
     "metadata": {},
     "output_type": "execute_result"
    }
   ],
   "source": [
    "time_to_point(AGV(1, 4, Up, true), Palette(1, 5, 4))"
   ]
  },
  {
   "cell_type": "code",
   "execution_count": 1,
   "metadata": {
    "dotnet_interactive": {
     "language": "csharp"
    }
   },
   "outputs": [
    {
     "data": {
      "text/plain": [
       "(22.48717948717949, Up)"
      ]
     },
     "execution_count": 1,
     "metadata": {},
     "output_type": "execute_result"
    }
   ],
   "source": [
    "time_to_point(AGV(1, 4, Up, false), Palette(1, 5, 4))"
   ]
  },
  {
   "cell_type": "code",
   "execution_count": 1,
   "metadata": {
    "dotnet_interactive": {
     "language": "csharp"
    }
   },
   "outputs": [
    {
     "data": {
      "text/plain": [
       "(24.866666666666667, Down)"
      ]
     },
     "execution_count": 1,
     "metadata": {},
     "output_type": "execute_result"
    }
   ],
   "source": [
    "time_to_point(AGV(1, 4, Up, false), Palette(1, 3, 4))"
   ]
  },
  {
   "cell_type": "code",
   "execution_count": 1,
   "metadata": {
    "dotnet_interactive": {
     "language": "csharp"
    }
   },
   "outputs": [
    {
     "data": {
      "text/plain": [
       "(71.26666666666667, Down)"
      ]
     },
     "execution_count": 1,
     "metadata": {},
     "output_type": "execute_result"
    }
   ],
   "source": [
    "time_to_point(AGV(4, 4, Up, false), Palette(2, 3, 4))"
   ]
  },
  {
   "cell_type": "code",
   "execution_count": 1,
   "metadata": {
    "dotnet_interactive": {
     "language": "csharp"
    }
   },
   "outputs": [
    {
     "data": {
      "text/plain": [
       "time_to_floor_location (generic function with 1 method)"
      ]
     },
     "execution_count": 1,
     "metadata": {},
     "output_type": "execute_result"
    }
   ],
   "source": [
    "function time_to_point(robot::AGV, location::FloorPosition)\n",
    "    return time_to_floor_location(robot::AGV, location::FloorPosition)\n",
    "end\n",
    "\n",
    "# TODO: Ne marche pas si robot vient juste de recuperer une palette. \n",
    "# Le choix de direction n'est pas encore choisie.\n",
    "\n",
    "# Returns the distance (in time from robot to palette) + direction in which to starts the movement\n",
    "function time_to_floor_location(robot::AGV, location::FloorPosition)\n",
    "    \n",
    "    la = Float32(l_aisle)\n",
    "    rx = Float32(robot.x)\n",
    "    ry = Float32(robot.y)\n",
    "    lx = Float32(location.x)\n",
    "    ly = Float32(location.y)\n",
    "\n",
    "    # The robot can travel all the way forward or backward\n",
    "    # and going up or down\n",
    "    \n",
    "    # x time is just number of cells x time per cell\n",
    "    fwd_t_x = 2 * abs(rx - lx) * fwd_time\n",
    "    bck_t_x = 2 * abs(rx - lx) * bck_time\n",
    "\n",
    "    # print(robot.x, \" \", palette.x, \" \", fwd_t_x, \" \", bck_t_x, \"\\n\")\n",
    "    \n",
    "    #  y time depends on the direction faced \n",
    "    # Final time is sum of all + time to get palette\n",
    "    if robot.dir == Up \n",
    "        \n",
    "        # If in the same aisle in front of robot, fwd short, bck full circle \n",
    "        # crossing next aisle = 2, entering/exiting aisle = 1\n",
    "        if (robot.x == palette.x) && (palette.y >= robot.y)\n",
    "            fwd_t_y = (py - ry) * fwd_time\n",
    "            bck_t_y = ((ry - 1) + 1 + 2 + 1 + (la - 1) + 1 + 2 + 1 + la - py) * bck_time\n",
    "            \n",
    "        # If in the same aisle behind robot => full circle \n",
    "        elseif (robot.x == palette.x) && (palette.y < robot.y)\n",
    "            fwd_t_y = ((la - ry) + 1 + 2 + 1 + (la - 1) + 1 + 2 + 1 + (py - 1)) * fwd_time\n",
    "            bck_t_y = (ry - py) * bck_time\n",
    "            \n",
    "        else\n",
    "            # Going fwd pointing up: to go to last cell in aisle + 1 to horizontal lane + down to palette\n",
    "            # Going bck pointing up: opposite trajectory\n",
    "            fwd_t_y = (la - ry + 1 + 2 + 1 + la - py) * fwd_time\n",
    "            bck_t_y = ((ry - 1) + 1 + 2 + 1 + (py - 1)) * bck_time\n",
    "        end\n",
    "        \n",
    "        fwd_total = fwd_t_x + fwd_t_y \n",
    "        bck_total = bck_t_x + bck_t_y \n",
    "        \n",
    "        # print(robot.dir, \" \", fwd_t_y, \" \", bck_t_y, \" \", fwd_up_total, \" \", bck_down_total)\n",
    "        \n",
    "        if fwd_total <= bck_total\n",
    "            return (fwd_total, Up)\n",
    "        else\n",
    "            return (bck_total, Down)\n",
    "        end\n",
    "        \n",
    "    else # If robot facing down\n",
    "        if (robot.x == palette.x) & (palette.y <= robot.y)\n",
    "            fwd_t_y = (ry - py) * fwd_time\n",
    "            bck_t_y = ((la - ry) + 1 + 2 + 1 + (la - 1) + 1 + 2 + 1 + (py - 1)) * bck_time\n",
    "            \n",
    "        # If in the same aisle behind robot => full circle \n",
    "        elseif (robot.x == palette.x) & (palette.y > robot.y)\n",
    "            fwd_t_y = ((ry - 1) + 1 + 2 + 1 + (la - 1) + 1 + 2 + 1 + (la - py)) * fwd_time\n",
    "            bck_t_y = (py - ry) * bck_time\n",
    "            \n",
    "        else\n",
    "            # Going fwd pointing up: to go to last cell in aisle + 1 to horizontal lane + down to palette\n",
    "            # Going bck pointing up: opposite trajectory\n",
    "            fwd_t_y = (la - ry + 1 + 2 + 1 + la - py) * fwd_time\n",
    "            bck_t_y = ((ry - 1) + 1 + 2 + 1 + (py - 1)) * bck_time\n",
    "        end\n",
    "        \n",
    "        fwd_total = fwd_t_x + fwd_t_y \n",
    "        bck_total = bck_t_x + bck_t_y \n",
    "        \n",
    "        # print(robot.dir, \" \", fwd_t_y, \" \", bck_t_y, \" \", fwd_up_total, \" \", bck_down_total)\n",
    "        \n",
    "        if fwd_total <= bck_total\n",
    "            return (fwd_total, Down)\n",
    "        else\n",
    "            return (bck_total, Up)\n",
    "        end\n",
    "        \n",
    "    end       \n",
    "end"
   ]
  },
  {
   "cell_type": "code",
   "execution_count": 1,
   "metadata": {
    "dotnet_interactive": {
     "language": "csharp"
    }
   },
   "outputs": [
    {
     "ename": "Error",
     "evalue": "[object Object]",
     "output_type": "error",
     "traceback": []
    }
   ],
   "source": [
    "time_to_point(AGV(4, 2, Up, true), Exit)"
   ]
  },
  {
   "cell_type": "code",
   "execution_count": 1,
   "metadata": {
    "dotnet_interactive": {
     "language": "csharp"
    }
   },
   "outputs": [
    {
     "data": {
      "text/plain": [
       "Down 4.461538461538462 166.26666666666668 19.333333333333336 204.93333333333334"
      ]
     },
     "execution_count": 1,
     "metadata": {},
     "output_type": "execute_result"
    },
    {
     "data": {
      "text/plain": [
       "(19.333333333333336, Down)"
      ]
     },
     "execution_count": 1,
     "metadata": {},
     "output_type": "execute_result"
    }
   ],
   "source": [
    "distance_to_exit(AGV(4, 2, Down, true))"
   ]
  }
 ],
 "metadata": {
  "kernelspec": {
   "display_name": "Julia 1.6.0",
   "language": "julia",
   "name": "julia-1.6"
  },
  "language_info": {
   "file_extension": ".jl",
   "mimetype": "application/julia",
   "name": "julia",
   "version": "1.6.0"
  },
  "toc": {
   "base_numbering": 1,
   "nav_menu": {},
   "number_sections": true,
   "sideBar": true,
   "skip_h1_title": false,
   "title_cell": "Table of Contents",
   "title_sidebar": "Contents",
   "toc_cell": false,
   "toc_position": {},
   "toc_section_display": true,
   "toc_window_display": false
  }
 },
 "nbformat": 4,
 "nbformat_minor": 4
}
