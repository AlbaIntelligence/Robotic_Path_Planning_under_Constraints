{
 "cells": [
  {
   "cell_type": "markdown",
   "metadata": {},
   "source": [
    "# Algorithm of Multi-AGVs Flow Optimisation\"\n",
    "\n",
    "author: \"Emmanuel RIALLAND - ALBA INTELLIGENCE HONG KONG\"\n",
    "\n",
    "date: `j import Dates; Dates.Date(Dates.now())`\n"
   ]
  },
  {
   "cell_type": "code",
   "execution_count": null,
   "metadata": {},
   "outputs": [],
   "source": [
    "# using Weave\n",
    "# Weave.weave(\"AGV_markup.jl\"; doctype=\"pandoc2pdf\", cache=:refresh, pandoc_options=[\"--table-of-contents\", \"--number-sections\", \"--reference-links\"])\n",
    "\n",
    "using LightGraphs, SimpleWeightedGraphs"
   ]
  },
  {
   "cell_type": "markdown",
   "metadata": {},
   "source": [
    "# [TODO]\n",
    "\n",
    "- [TODO: Consider variants to A*]\n",
    "- CHANGE ALL TO CartesianCoordinates\n"
   ]
  },
  {
   "cell_type": "markdown",
   "metadata": {},
   "source": [
    "# NOTES\n",
    "\n",
    "- Single planning (next task allocation): matrix 2D because only sorting by distance (cost = time) without considering collisions.\n",
    "\n",
    "- Multiple planning: 3D\n",
    "\n",
    "- $T_{Max}$ is currently fixed at 300s. It could just be a minimum to be dynamically increased if A\\* search is unsuccessful.\n"
   ]
  },
  {
   "cell_type": "code",
   "execution_count": null,
   "metadata": {},
   "outputs": [
    {
     "data": {
      "text/plain": [
       "3.0"
      ]
     },
     "execution_count": 2,
     "metadata": {},
     "output_type": "execute_result"
    }
   ],
   "source": [
    "# HARDCODED IN SECONDS. ALL SPEEDS ARE MULTIPLES.\n",
    "# THIS WAY: TURN = 1 UNIT. BCK = 2 UNITS. FWD = 4 UNITS.\n",
    "\n",
    "Tmax = 5 * 60\n",
    "TStep = 0.50\n",
    "SliceMax = Int64(ceil(Tmax / TStep))\n",
    "\n",
    "AGVLength = 4.0\n",
    "AGVWidth = 3.0"
   ]
  },
  {
   "cell_type": "markdown",
   "metadata": {},
   "source": [
    "# Assumptions\n",
    "\n",
    "- Everything in SI.\n",
    "\n",
    "- Time-step short enough to never have jump-overs even at full speed.\n",
    "\n",
    "- AGV dimensions approximated in multiple of twice the grid so that all dimensions / tests can be done as centre location +/- value in integers.\n",
    "\n",
    "- AGV dimensions include palettes.\n",
    "\n",
    "- Should include security perimeter monitored by AGV?\n",
    "\n",
    "- All standardised dimensions in floating point. All simulation dimensions in integers. Type mistakes are easier to pick up.\n",
    "\n",
    "- Dimensions of the floor plan is in units of the gridsize.\n",
    "\n",
    "- Once a palette is taken off a shelf, it cannot be put back (putting back might mess up warehouse software and really not obvious is a lot of time would actually be saved).\n",
    "- Basically, any movement up or dowm to do anything will not be cancelled or replanned half-way through.\n",
    "- The logic to track if any TPaletteLocation is occupied or not is ignored. We rely on the warehousing software to track that for us.\n"
   ]
  },
  {
   "cell_type": "markdown",
   "metadata": {},
   "source": [
    "# Data structures\n",
    "\n",
    "## Data types\n",
    "\n",
    "### Location / Time\n",
    "\n",
    "$TLocation$:\n",
    "\n",
    "- $x, y:: Float64$ for standardised units\n",
    "\n",
    "- $s = CartesianIndex(simx, simx::Int64)$ for simulation units\n"
   ]
  },
  {
   "cell_type": "code",
   "execution_count": 3,
   "metadata": {},
   "outputs": [],
   "source": [
    "abstract type AbstractLocation end\n",
    "\n",
    "struct TLocation <: AbstractLocation\n",
    "    x::Float64\n",
    "    y::Float64\n",
    "    s::CartesianIndex{2}\n",
    "end"
   ]
  },
  {
   "cell_type": "markdown",
   "metadata": {},
   "source": [
    "$height$:\n",
    "\n",
    "Represents how high a fork is at a particular time. This is necessary since any pick-up / delivery can be interrupted.\n",
    "\n",
    "- $h:: Float64$ for standardised units\n",
    "\n",
    "- $simh::Int64$ for simulation units\n"
   ]
  },
  {
   "cell_type": "code",
   "execution_count": 4,
   "metadata": {},
   "outputs": [],
   "source": [
    "struct THeight\n",
    "    h::Float64\n",
    "    simh::Int64\n",
    "end"
   ]
  },
  {
   "cell_type": "markdown",
   "metadata": {},
   "source": [
    "$TTime$:\n",
    "\n",
    "- $t:: Float64$ for standardised units\n",
    "\n",
    "- $simt::Int64$ for simulation units\n"
   ]
  },
  {
   "cell_type": "code",
   "execution_count": 5,
   "metadata": {},
   "outputs": [],
   "source": [
    "struct TTime\n",
    "    t::Float64\n",
    "    simt::Int64\n",
    "end"
   ]
  },
  {
   "cell_type": "markdown",
   "metadata": {},
   "source": [
    "### Direction of an AGV\n",
    "\n",
    "$TDirection$::\n",
    "\n",
    "- Enum: [Up, Down, Left, Right]\n"
   ]
  },
  {
   "cell_type": "code",
   "execution_count": 6,
   "metadata": {},
   "outputs": [],
   "source": [
    "@enum TDirection begin\n",
    "    Up\n",
    "    Down\n",
    "    Left\n",
    "    Right\n",
    "end"
   ]
  },
  {
   "cell_type": "markdown",
   "metadata": {},
   "source": [
    "## Structures\n",
    "\n",
    "### Parkings:\n",
    "\n",
    "- Parking ID\n",
    "\n",
    "- Parking location: $TLocation$\n"
   ]
  },
  {
   "cell_type": "code",
   "execution_count": 7,
   "metadata": {},
   "outputs": [],
   "source": [
    "struct TParking <: AbstractLocation\n",
    "    ID::String\n",
    "    loc::TLocation\n",
    "end"
   ]
  },
  {
   "cell_type": "markdown",
   "metadata": {},
   "source": [
    "### Palette location (they do more than palettes!)\n",
    "\n",
    "Palette locations is any spot that can have a palette!\n",
    "\n",
    "- Conveyor or Delivery belt, Top or Bottom drop areas, Quay\n",
    "- Which side of that location needs to be faced to pick up/drop\n",
    "- NEED TO SEPARATE TIMES RELATED TO THE TASK PROVIDED BY THE QUEUING SYSTEM, VS. TIME CALCULATED FOR A GIVEN AGV MODEL.\n",
    "\n",
    "- ID\n",
    "\n",
    "- Location: $TLocation$\n",
    "\n",
    "- How high a paletter is located:.level is an Integer that wil be = 0 for ground located\n",
    "\n",
    "- Whether the location is currently occupied. Logic for change of occupancy NOT implemented (see Assumptions)\n"
   ]
  },
  {
   "cell_type": "code",
   "execution_count": 8,
   "metadata": {},
   "outputs": [],
   "source": [
    "struct TPaletteLocation <: AbstractLocation\n",
    "    ID::String\n",
    "\n",
    "    loc::TLocation\n",
    "    height::THeight\n",
    "\n",
    "    sideToFace::TDirection\n",
    "    isFull::Bool\n",
    "end"
   ]
  },
  {
   "cell_type": "markdown",
   "metadata": {},
   "source": [
    "### Tasks: Know at algo start\n",
    "\n",
    "- Task ID ([TODO: Transform to data type])\n",
    "\n",
    "- Location start ($s_j$): $TLocation$, $onrack$, $level$. $level$ only in on racks ($onrack == true$)\n",
    "\n",
    "- Location target ($g_j$): $TLocation$, $onrack$, $level$. $level$ only in on racks ($onrack == true$)\n"
   ]
  },
  {
   "cell_type": "code",
   "execution_count": 9,
   "metadata": {},
   "outputs": [],
   "source": [
    "struct TTask\n",
    "    ID::String\n",
    "    start::TPaletteLocation\n",
    "    target::TPaletteLocation\n",
    "end"
   ]
  },
  {
   "cell_type": "markdown",
   "metadata": {},
   "source": [
    "### AGV:\n",
    "\n",
    "- ID number: Known at algo start\n",
    "- Initial position: $TLocation$ Known at algo start\n",
    "- Current position: $TLocation$.\n",
    "- Final position: $TLocation$.\n",
    "- Final time stamp: $TTime$\n",
    "- State:\n",
    "\n",
    "  - $Direction$: $TDirection$\n",
    "  - $forkHeight$: how high the fork currently is (in shelf simulation units!) since movements up or down can be interrupted at any time for replanning.\n",
    "  - $isLoaded$: $Bool$\n",
    "  - $isSideways$:: $Bool$ - is the AGV facing a shelf but otherwise ready to go (about to load or after loading, but no idea where to go).\n",
    "  - [TODO: More TBD]\n",
    "\n",
    "- List of tasks as list of tuples allocated to that AGV: Initialised empty\n",
    "\n",
    "  - Task ID\n",
    "  - time $TTime$ in simulation units from previous step to reach task. The list is updated at each iteration using the release time calculated by A\\*. $t = 0$ at the start.\n",
    "\n",
    "- Allocated parking . Full structure for the moment. (Maybe $Parking_{ID}$ later?).\n"
   ]
  },
  {
   "cell_type": "code",
   "execution_count": null,
   "metadata": {},
   "outputs": [],
   "source": [
    "struct TAGV\n",
    "    ID::String\n",
    "    start::TLocation\n",
    "    current::TLocation\n",
    "    target::TLocation\n",
    "\n",
    "    time::TTime\n",
    "\n",
    "    direction::TDirection\n",
    "\n",
    "    forkHeight::THeight\n",
    "    isLoaded::Bool\n",
    "    isSideways::Bool\n",
    "\n",
    "    listTasks::AbstractVector{TTask}\n",
    "    park::TParking\n",
    "end"
   ]
  },
  {
   "cell_type": "markdown",
   "metadata": {},
   "source": [
    "## Global variables\n",
    "\n",
    "Precompute FloorPlan information\n",
    "\n",
    "### Create list of obstacles\n"
   ]
  },
  {
   "cell_type": "code",
   "execution_count": null,
   "metadata": {},
   "outputs": [
    {
     "data": {
      "text/plain": [
       "vFloorPlanObstacles (generic function with 1 method)"
      ]
     },
     "execution_count": 11,
     "metadata": {},
     "output_type": "execute_result"
    }
   ],
   "source": [
    "function cFloorPlanObstacles(FloorPlan)\n",
    "    nRow, nCol = size(FloorPlan)\n",
    "    return [CartesianIndex(i, j) for i in 1:nRow,\n",
    "            j in 1:nCol\n",
    "            if FloorPlan[i, j] == 1]\n",
    "end\n",
    "\n",
    "function vFloorPlanObstacles(FloorPlan)\n",
    "    nRow, nCol = size(FloorPlan)\n",
    "    return [c2v(CartesianIndex(i, j), nCol) for i in 1:nRow,\n",
    "            j in 1:nCol\n",
    "            if FloorPlan[i, j] == 1]\n",
    "end"
   ]
  },
  {
   "cell_type": "markdown",
   "metadata": {},
   "source": [
    "### Task end to task end optimal times\n",
    "\n",
    "- Initialise matrix $\\tau$ with dimensions $length(ListTasks) \\times length(ListTasks)$ Pre-calculate transfers from the end of one task to the end of another: $\\tau_{i, j} = time\\_2D(\\mathbb{G}, g_i, g_j)$. That matrix is NOT symmetrical. It includes transfer time + and up/down fork movement. Each task ends with the AGV facing its pick-up/delivery point.\n"
   ]
  },
  {
   "cell_type": "code",
   "execution_count": null,
   "metadata": {},
   "outputs": [
    {
     "data": {
      "text/plain": [
       "τ (generic function with 1 method)"
      ]
     },
     "execution_count": 12,
     "metadata": {},
     "output_type": "execute_result"
    }
   ],
   "source": [
    "function τ(G, listOfTasks, i, j)\n",
    "    nTasks = length(listOfTasks)\n",
    "    M = Matrix{TTime}(undef, (nTasks, nTasks))\n",
    "\n",
    "    for i ∈ 1:nTasks\n",
    "        for j ∈ 1:nTasks\n",
    "            # Transfer time\n",
    "            M[i, j] = time_2D(G, listOfTasks[i].target.loc,\n",
    "                listOfTasks[j].target.loc).TTime\n",
    "        end\n",
    "    end\n",
    "\n",
    "    return M\n",
    "end"
   ]
  },
  {
   "cell_type": "markdown",
   "metadata": {},
   "source": [
    "### FloorPlan information structure\n"
   ]
  },
  {
   "cell_type": "code",
   "execution_count": null,
   "metadata": {},
   "outputs": [
    {
     "data": {
      "text/plain": [
       "precompute_floorplan_info (generic function with 1 method)"
      ]
     },
     "execution_count": 13,
     "metadata": {},
     "output_type": "execute_result"
    }
   ],
   "source": [
    "struct FloorInfo\n",
    "    plan\n",
    "    nRow\n",
    "    nCol\n",
    "    obst_cart\n",
    "    pbst_vert\n",
    "end\n",
    "\n",
    "function precompute_floorplan_info(FloorPlan)\n",
    "    nRow, nCol = size(FloorPlan)\n",
    "\n",
    "    return FloorInfo(\n",
    "        plan=FloorPlan,\n",
    "        nRow=nRow,\n",
    "        nCol=nCol,\n",
    "        obst_cart=cFloorPlanObstacles(FloorPlan),\n",
    "        obst_vert=vFloorPlanObstacles(FloorPlan))\n",
    "end"
   ]
  },
  {
   "cell_type": "markdown",
   "metadata": {},
   "source": [
    "# Utility Functions\n",
    "\n",
    "## Reciprocal conversions between simulation coordinates and node numbers.\n",
    "\n",
    "Coordinates are expressed in $CartesianIndex()$. Nodes are vertices expessed as $Int64$\n",
    "\n",
    "### Conversions in 2 dimensions\n"
   ]
  },
  {
   "cell_type": "code",
   "execution_count": null,
   "metadata": {},
   "outputs": [
    {
     "data": {
      "text/plain": [
       "v2c (generic function with 1 method)"
      ]
     },
     "execution_count": 14,
     "metadata": {},
     "output_type": "execute_result"
    }
   ],
   "source": [
    "function c2v(p::CartesianIndex{2}, nCol::Integer)::Int64\n",
    "    # Beware of 0 vs. 1 indexing\n",
    "    return (p[1] - 1) * nCol + (p[2] - 1) + 1\n",
    "end\n",
    "\n",
    "function c2v(l::TLocation, nCol::Integer)::Int64\n",
    "    return c2v(TLocation.s, nCol)\n",
    "end\n",
    "\n",
    "function c2v(p::TPaletteLocation, nCol::Integer)::Int64\n",
    "    return c2v(p.loc, nCol)\n",
    "end\n",
    "\n",
    "function v2c(n::Integer, nCol::Integer)::CartesianIndex{2}\n",
    "    # Beware of 0 vs. 1 indexing\n",
    "    x = 1 + div(n - 1, nCol)\n",
    "    y = 1 + rem(n - 1, nCol)\n",
    "    return CartesianIndex(x, y)\n",
    "end"
   ]
  },
  {
   "cell_type": "markdown",
   "metadata": {},
   "source": [
    "### Conversions in 3 dimensions\n",
    "\n",
    "3 dimensions is the 2 (x, y) plus time\n"
   ]
  },
  {
   "cell_type": "code",
   "execution_count": null,
   "metadata": {},
   "outputs": [
    {
     "data": {
      "text/plain": [
       "v2c (generic function with 2 methods)"
      ]
     },
     "execution_count": 15,
     "metadata": {},
     "output_type": "execute_result"
    }
   ],
   "source": [
    "function c2v(p::CartesianIndex{3},\n",
    "    nCol::Integer, nTime::Integer)::Int64\n",
    "    # Beware of 0 vs. 1 indexing\n",
    "    return ((p[1] - 1) * nCol + (p[2] - 1)) * nTime + (p[3] - 1) + 1\n",
    "end\n",
    "\n",
    "function c2v(l::TLocation, time::TTime,\n",
    "    nCol::Integer, nTime::Integer)::Int64\n",
    "    x, y = l.s\n",
    "    return c2v(CartesianIndex(x, y, time.simt), nCol, nTime)\n",
    "end\n",
    "\n",
    "function c2v(p::TPaletteLocation, time::TTime,\n",
    "    nCol::Integer, nTime::Integer)::Int64\n",
    "    return c2v(p.loc, time, nCol, nTime)\n",
    "end\n",
    "\n",
    "function v2c(v::Integer,\n",
    "    nCol::Integer, nTime::Integer)::CartesianIndex{3}\n",
    "\n",
    "    # Beware of 0 vs. 1 indexing\n",
    "    v0 = v - 1\n",
    "\n",
    "    xy = 1 + div(v0, nTime)\n",
    "    x = 1 + div(xy - 1, nCol)\n",
    "    y = 1 + rem(xy - 1, nCol)\n",
    "\n",
    "    t = 1 + rem(v0, nTime)\n",
    "\n",
    "    return CartesianIndex(x, y, t)\n",
    "end"
   ]
  },
  {
   "cell_type": "markdown",
   "metadata": {},
   "source": [
    "## $create\\_list\\_of\\_parkings(n)$\n",
    "\n",
    "Create $n$ parking positions with:\n",
    "\n",
    "- All values are in standardised dimensions\n",
    "\n",
    "- Number of parkings located next to sources of tasks in proportion of coming orders. Assume that this being done, equal probability of use is acceptable (no priority in the order of filling the parking).\n",
    "\n",
    "- All different\n",
    "\n",
    "- At least one per AGV\n",
    "\n",
    "- Ensure parking positions do not prevent any traffic once an AGV is occupying it.\n",
    "  - WARNING: this is necessary to guarantee that searches will always find solution:\n"
   ]
  },
  {
   "cell_type": "code",
   "execution_count": null,
   "metadata": {},
   "outputs": [
    {
     "ename": "LoadError",
     "evalue": "syntax: extra token \"for\" after end of expression",
     "output_type": "error",
     "traceback": [
      "syntax: extra token \"for\" after end of expression",
      "",
      "Stacktrace:",
      " [1] top-level scope",
      "   @ In[16]:7",
      " [2] eval",
      "   @ ./boot.jl:360 [inlined]",
      " [3] include_string(mapexpr::typeof(REPL.softscope), mod::Module, code::String, filename::String)",
      "   @ Base ./loading.jl:1094"
     ]
    }
   ],
   "source": [
    "function create_list_parkings(M)::AbstractVector{TParking}\n",
    "    return []\n",
    "end\n",
    "\n",
    "## $scale\\_to\\_simulation()$\n",
    "\n",
    "Starting for a floorplan, create a matrix where each position of the floorplan is converted into a square of equal content but broken down into simulation units\n",
    "# %%\n",
    "\n",
    "function scale_to_simulation(F::AbstractMatrix{Int64}, GridSize::Real)\n",
    "\n",
    "    GridSimMultiplier = Int64(ceil(1.0 / GridSize))\n",
    "\n",
    "    # Create an empty matrix that will contain the simulation scaled properly.\n",
    "    nRow, nCol = size(F)\n",
    "\n",
    "    nSimRow = GridSimMultiplier * nRow\n",
    "    nSimCol = GridSimMultiplier * nCol\n",
    "\n",
    "    M = zeros(Int64, (nSimRow, nSimCol))\n",
    "\n",
    "    # For each location in the resulting matrix, change to the floorplan value.\n",
    "    for i ∈ 1:nRow\n",
    "        for j ∈ 1:nCol\n",
    "            # Calculate the beginning- and end-rows to be changed\n",
    "            i_beg =  1 + GridSimMultiplier * (i - 1)\n",
    "            i_end =      GridSimMultiplier * i\n",
    "\n",
    "            # ditto for columns\n",
    "            j_beg =  1 + GridSimMultiplier * (j - 1)\n",
    "            j_end =      GridSimMultiplier * j\n",
    "\n",
    "            # Block change\n",
    "            M[i_beg:i_end, j_beg:j_end] .= F[i, j]\n",
    "        end\n",
    "    end\n",
    "\n",
    "    return M\n",
    "end"
   ]
  },
  {
   "cell_type": "markdown",
   "metadata": {},
   "source": [
    "## $create\\_task\\_pairing\\_times(listOfTasks)$\n",
    "\n",
    "Precomputes the optimal time to go from one finished task to the end of another for any pairing of tasks.\n",
    "This is not symmetrical and calculated both ways.\n",
    "If only a single task, nothing to do!\n"
   ]
  },
  {
   "cell_type": "code",
   "execution_count": null,
   "metadata": {},
   "outputs": [
    {
     "data": {
      "text/plain": [
       "create_task_pairing_times (generic function with 1 method)"
      ]
     },
     "execution_count": 17,
     "metadata": {},
     "output_type": "execute_result"
    }
   ],
   "source": [
    "# [CHECK: do we need to include the path in each result?]\n",
    "function create_task_pairing_times(\n",
    "    G::SimpleDiGraph,\n",
    "    listOfTasks::AbstractVector{TTask},\n",
    "    nCol::Int64)::AbstractVector{TTime}\n",
    "\n",
    "    nTasks = length(listOfTasks)\n",
    "\n",
    "    # Result matrix\n",
    "    M = Array{TTime}(undef, (nTasks, nTasks))\n",
    "\n",
    "    # TODO: As list comprehension?\n",
    "    if nTasks > 1\n",
    "        for i ∈ 1:nTasks\n",
    "            for j ∈ 1:nTasks\n",
    "                # Tasks\n",
    "                t1 = listOfTasks[i].target\n",
    "                t2 = listOfTasks[j].target\n",
    "\n",
    "                # nodes at the end of task i and at the end of task j\n",
    "                n1 = c2v(t1, nCol)\n",
    "                n2 = c2v(t2, nCol)\n",
    "\n",
    "                M[i, j] = time_2D(G, n1, n2)\n",
    "            end\n",
    "        end\n",
    "    end\n",
    "\n",
    "    return M\n",
    "end"
   ]
  },
  {
   "cell_type": "markdown",
   "metadata": {},
   "source": [
    "## $scale\\_to\\_simulation(object)$\n",
    "\n",
    "Generic function to rescale the floor plan or object locations from standardised to simulation\n"
   ]
  },
  {
   "cell_type": "code",
   "execution_count": null,
   "metadata": {},
   "outputs": [
    {
     "data": {
      "text/plain": [
       "scale_to_simulation (generic function with 9 methods)"
      ]
     },
     "execution_count": 18,
     "metadata": {},
     "output_type": "execute_result"
    }
   ],
   "source": [
    "# Convert any Float64 to Int64. Can be used for location or time\n",
    "function scale_to_simulation(x::Float64, factor::Float64)::Int64\n",
    "    return Int64(ceil(x / factor))\n",
    "end\n",
    "\n",
    "function scale_to_simulation(p::THeight, tStep)::TTime\n",
    "    r = deepcopy(p)\n",
    "    r.simh = scale_to_simulation(p.h, tStep)\n",
    "    return r\n",
    "end\n",
    "\n",
    "function scale_to_simulation(t::TTime, tStep)::TTime\n",
    "    r = deepcopy(t)\n",
    "    r.simt = scale_to_simulation(t.t, tStep)\n",
    "    return r\n",
    "end\n",
    "\n",
    "function scale_to_simulation(loc::TLocation, gridSize::Float64)::TLocation\n",
    "    l = deepcopy(loc)\n",
    "    simx = scale_to_simulation(loc.x, gridSize)\n",
    "    simy = scale_to_simulation(loc.y, gridSize)\n",
    "    l.s = CartesianIndex(simx, simy)\n",
    "    return l\n",
    "end\n",
    "\n",
    "function scale_to_simulation(p::TParking, gridSize::Float64)::TParking\n",
    "    l = deepcopy(p)\n",
    "    l.loc = scale_to_simulation(p.loc, gridSize)\n",
    "    return l\n",
    "end\n",
    "\n",
    "function scale_to_simulation(p::TPaletteLocation, gridSize::Float64)::TPalette\n",
    "    l = deepcopy(p)\n",
    "    l.loc = scale_to_simulation(p.loc, gridSize)\n",
    "    l.height = scale_to_simulation(p.height, gridSize)\n",
    "    return l\n",
    "end\n",
    "\n",
    "function scale_to_simulation(t::TTask, gridSize::Float64)::TTask\n",
    "    l = deepcopy(t)\n",
    "    l.start = scale_to_simulation(t.start, gridSize)\n",
    "    l.target = scale_to_simulation(t.target, gridSize)\n",
    "    return l\n",
    "end\n",
    "\n",
    "function scale_to_simulation(t::Vector{TTask}, gridSize::Float64)::Vector{TTask}\n",
    "    l = deepcopy(t)\n",
    "    return map(t -> scale_to_simulation(t, gridSize), l)\n",
    "end\n",
    "\n",
    "function scale_to_simulation(a::TAGV, gridSize::Float64, tStep::Float64)::TAGV\n",
    "    l = deepcopy(a)\n",
    "    l.start = scale_to_simulation(a.start, gridSize)\n",
    "    l.current = scale_to_simulation(a.current, gridSize)\n",
    "    l.target = scale_to_simulation(a.target, gridSize)\n",
    "    l.forkHeight = scale_to_simulation(a.forkHeight, gridSize)\n",
    "    l.time = scale_to_simulation(a.time, tStep)\n",
    "    l.listTasks = scale_to_simulation(a.listTasks, gridSize)\n",
    "    l.park = scale_to_simulation(a.park, gridSize)\n",
    "    return l\n",
    "end"
   ]
  },
  {
   "cell_type": "markdown",
   "metadata": {},
   "source": [
    "## $scale\\_to\\_standardised(object)$\n",
    "\n",
    "Generic function to rescale the floor plan or object locations from simulation to standardised\n"
   ]
  },
  {
   "cell_type": "code",
   "execution_count": null,
   "metadata": {},
   "outputs": [
    {
     "data": {
      "text/plain": [
       "scale_to_standardised (generic function with 9 methods)"
      ]
     },
     "execution_count": 19,
     "metadata": {},
     "output_type": "execute_result"
    }
   ],
   "source": [
    "# Convert any Float64 to Int64. Can be used for location or time\n",
    "function scale_to_standardised(v::Int64, factor::Float64)::Float64\n",
    "    return Float64(factor * Float64(v))\n",
    "end\n",
    "\n",
    "function scale_to_standardised(p::THeight, tStep)::TTime\n",
    "    r = deepcopy(p)\n",
    "    r.h = scale_to_standardised(p.simh, tStep)\n",
    "\n",
    "    return r\n",
    "end\n",
    "\n",
    "function scale_to_standardised(t::TTime, tStep)::TTime\n",
    "    r = deepcopy(t)\n",
    "    r.t = scale_to_standardised(t.simt, tStep)\n",
    "    return r\n",
    "end\n",
    "\n",
    "function scale_to_standardised(loc::TLocation, gridSize::Float64)::TLocation\n",
    "    l = deepcopy(loc)\n",
    "    l.x = scale_to_standardised(loc.s[1], gridSize)\n",
    "    l.y = scale_to_standardised(loc.s[2], gridSize)\n",
    "    return l\n",
    "end\n",
    "\n",
    "function scale_to_standardised(p::TParking, gridSize::Float64)::TParking\n",
    "    l = deepcopy(p)\n",
    "    l.loc = scale_to_standardised(p.loc, gridSize)\n",
    "    return l\n",
    "end\n",
    "\n",
    "function scale_to_standardised(p::TPaletteLocation, gridSize::Float64)::TPalette\n",
    "    l = deepcopy(p)\n",
    "    l.height = scale_to_standardised(p.height, gridSize)\n",
    "    return l\n",
    "end\n",
    "\n",
    "function scale_to_standardised(t::TTask, gridSize::Float64)::TTask\n",
    "    l = deepcopy(t)\n",
    "    l.start = scale_to_standardised(t.start, gridSize)\n",
    "    l.target = scale_to_standardised(t.target, gridSize)\n",
    "    return l\n",
    "end\n",
    "\n",
    "function scale_to_standardised(t::Vector{TTask}, gridSize::Float64)::Vector{TTask}\n",
    "    l = deepcopy(t)\n",
    "    return map(t -> scale_to_standardised(t, gridSize), l)\n",
    "end\n",
    "\n",
    "function scale_to_standardised(a::TAGV, gridSize::Float64, tStep::Float64)::TAGV\n",
    "    l = deepcopy(a)\n",
    "    l.start = scale_to_standardised(a.start, gridSize)\n",
    "    l.current = scale_to_standardised(a.current, gridSize)\n",
    "    l.target = scale_to_standardised(a.target, gridSize)\n",
    "    l.forkHeight = scale_to_standardised(a.forkHeight, gridSize)\n",
    "    l.time = scale_to_standardised(a.time, tStep)\n",
    "    l.listTasks = scale_to_simulation(a.listTasks, gridSize)\n",
    "    l.park = scale_to_standardised(a.park, gridSize)\n",
    "    return l\n",
    "end"
   ]
  },
  {
   "cell_type": "markdown",
   "metadata": {},
   "source": [
    "# Algorithm\n",
    "\n",
    "## Expected inputs\n",
    "\n",
    "All inputs are in Standardised dimensions.\n",
    "\n",
    "- $F$: _Required_ Floor plan matrix\n",
    "- $ListAGV$: _Required_. Check list length >= 1\n",
    "- $ListTasks = []$: _Required_. List length can be 0. Must include the list of tasks that are already allocated at the start of the simulation.\n",
    "- $ListOfParking = create\\_list\\_of\\_parkings(length(ListAGV))$: _Optional_ List of parking slots. Created if missing.\n",
    "- Speeds: _Required_ forward, backward, turn\n"
   ]
  },
  {
   "cell_type": "markdown",
   "metadata": {},
   "source": [
    "## Wrapping\n",
    "\n",
    "First call point is $optimise\\_standardised\\_units()$.\n",
    "\n",
    "### Timing and Sizing parameters\n",
    "\n",
    "Estimate adequate time step $t_{step}$ to scaled matrix to $M$. [CHECK: Default to 200ms]\n",
    "\n",
    "Max simulation time $T_{Max}$: This time will be used when planning a path. It has to be long enough so that, given any configuration, A* will find a path from any current position, to achieve any task and go to any parking position. Currently 300s (converted to simulation time using $t_{step}$ in ${Step}_{Max}$). Track A* failures to check if long enough.\n",
    "\n",
    "${Step}_{Max} = T_{Max} / t_{step}$ is the depth of the 3D planning matrix.\n",
    "\n",
    "$GridSize$:\n",
    "\n",
    "- size of each simulation square. AGV dimensions = +/- 1/2 width, +/- 1/2 length.\n",
    "- Ensures never jumps over even max speed.\n",
    "\n",
    "### Scale everything to Simulation dimensions\n",
    "\n",
    "Rescale all relevant values from Standardised to Simulation:\n",
    "\n",
    "- Matrix of the full floor plan: $M = Rescale(F)$\n",
    "- Same for $ListOfParkings = [Parking_i]$, $\\alpha_i$, $s_j$, $g_j$ to be appropriately scaled given $t_{step}$.\n",
    "\n",
    "### Call main algo in simulation units\n",
    "\n",
    "Call $optimise\\_simulation\\_units()$\n",
    "\n",
    "### Scale everything back to standardise units\n",
    "\n",
    "Rescale all relevant values from Simulation to Standardised\n",
    "\n",
    "### Return\n",
    "\n",
    "Results are returned in Standardised units.\n"
   ]
  },
  {
   "cell_type": "markdown",
   "metadata": {},
   "source": [
    "### Code\n"
   ]
  },
  {
   "cell_type": "code",
   "execution_count": null,
   "metadata": {},
   "outputs": [
    {
     "data": {
      "text/plain": [
       "optimise_standardise_units (generic function with 1 method)"
      ]
     },
     "execution_count": 20,
     "metadata": {},
     "output_type": "execute_result"
    }
   ],
   "source": [
    "function optimise_standardise_units(\n",
    "    F::AbstractMatrix{Float64},\n",
    "    listAGVs::AbstractVector{TAGV},\n",
    "    listTasks::AbstractVector{TTask};\n",
    "    speedFwd::Float64=2.0,\n",
    "    speedBck::Float64=1.0,\n",
    "    speedTrn::Float64=0.5,\n",
    "    listParkings::AbstractVector{TParking}=create_list_of_parkings(length(listAGVs)))\n",
    "\n",
    "    # 600 STEPS - MATRIX DEPTH\n",
    "    StepMax = Int64(ceil(TMax / TStep))\n",
    "\n",
    "    # GridSize = 50 cm\n",
    "    GridSize = Float64(ceil(speedTrn / TStep))\n",
    "    M = scale_to_simulation(F, GridSize)\n",
    "\n",
    "    simAGVLength = Int64(ceil(AVGLength / GridSize))\n",
    "    simAGVWidth = Int64(ceil(AVGWidth / GridSize))\n",
    "\n",
    "    # ALERT: FINALISE RETURN FORMAT\n",
    "    simulation_optim = optimise_standardise_units(\n",
    "        M, StepMax,\n",
    "        scale_to_simulation(listAGVs),\n",
    "        scale_to_simulation(listTasks),\n",
    "        scale_to_simulation(speedFwd),\n",
    "        scale_to_simulation(speedBck),\n",
    "        scale_to_simulation(speedTrn),\n",
    "        scale_to_simulation(listParkings))\n",
    "end"
   ]
  },
  {
   "cell_type": "markdown",
   "metadata": {},
   "source": [
    "## $optimise\\_simulation\\_units()$ - Preparation of the Main Loop\n",
    "\n",
    "### Preamble\n",
    "\n",
    "Each AGV will have:\n",
    "\n",
    "- a list of tasks with a list of release time.\n",
    "\n",
    "(BUSY WITH TASK --- RELEASE TIME)+ --- GO TO PARKING\n",
    "\n",
    "The number of busy times can be 0. Each AGV has a final release time.\n",
    "\n",
    "### Initialisation\n",
    "\n",
    "- Using $M$, precompute 2D graph $\\mathbb{G}$.\n"
   ]
  },
  {
   "cell_type": "code",
   "execution_count": null,
   "metadata": {},
   "outputs": [
    {
     "data": {
      "text/plain": [
       "floorplan_to_2Dgraph (generic function with 1 method)"
      ]
     },
     "execution_count": 21,
     "metadata": {},
     "output_type": "execute_result"
    }
   ],
   "source": [
    "function floorplan_to_2Dgraph(FloorPlan)\n",
    "    nRow, nCol = size(FloorPlan)\n",
    "    graph = SimpleWeightedGraph(nRow * nCol)\n",
    "\n",
    "    for row in 1:nRow, col in 1:nCol,\n",
    "        p in next_moves_2D(CartesianIndex(row, col), nRow, nCol)\n",
    "\n",
    "        origin = CartesianIndex(row, col)\n",
    "        target = p\n",
    "\n",
    "        cObstacles = cFloorPlanObstacles(FloorPlan)\n",
    "\n",
    "        # [TODO: To be extracted, generalised, cObstables pre-computed.]\n",
    "        hcost = (target in cObstacles || origin in cObstacles) ? 100 : 1\n",
    "        add_edge!(graph, c2v(origin, nCol), c2v(target, nCol), hcost)\n",
    "    end\n",
    "\n",
    "    return graph\n",
    "end"
   ]
  },
  {
   "cell_type": "markdown",
   "metadata": {},
   "source": [
    "- Using $M$, precompute $M_0$ with $T_{Max}$ slices.\n"
   ]
  },
  {
   "cell_type": "code",
   "execution_count": null,
   "metadata": {},
   "outputs": [
    {
     "data": {
      "text/plain": [
       "pre_computed_3DMatrix (generic function with 1 method)"
      ]
     },
     "execution_count": 22,
     "metadata": {},
     "output_type": "execute_result"
    }
   ],
   "source": [
    "function pre_computed_3DMatrix(\n",
    "    M::AbstractMatrix{Int64},\n",
    "    nSlices::Int64)::AbstractArray{Int64}\n",
    "\n",
    "    return repeat(M, nSlices)\n",
    "end"
   ]
  },
  {
   "cell_type": "markdown",
   "metadata": {},
   "source": [
    "- For each AGV, if it already has a task, calculate its completion time $time\\ 2D(\\mathbb{G}, \\alpha_i, g_j)$. This is the starting point of the planning loops.\n",
    "\n",
    "- Initialise the list of tasks of each AGV to just initial position $PlanningList = [\\alpha_i=[\\alpha_{i, 0}]]$. Each $\\alpha_i$ will grow with a list of tasks $\\alpha_i = [\\alpha_{i, 0}, \\tau_{i, 1}, , \\tau_{i, 2}, ...]$\n",
    "\n",
    "- $PlanningList = [\\alpha_i]$ will later contain a list of AGVs $\\alpha_i$ each containing their allocated tasks (if any). It does not contain the list of parking locations which may vary from iteration to iteration.\n"
   ]
  },
  {
   "cell_type": "markdown",
   "metadata": {},
   "source": [
    "## Start Main Loop\n"
   ]
  },
  {
   "cell_type": "code",
   "execution_count": null,
   "metadata": {},
   "outputs": [
    {
     "data": {
      "text/plain": [
       "optimise_simulation_units (generic function with 1 method)"
      ]
     },
     "execution_count": 23,
     "metadata": {},
     "output_type": "execute_result"
    }
   ],
   "source": [
    "function optimise_simulation_units(\n",
    "    M::AbstractMatrix{Int64},\n",
    "    StepMax::Int64,\n",
    "    listAGVs::AbstractVector{TAGV},\n",
    "    listTasks::AbstractVector{TTask},\n",
    "    speedFwd::Int64,\n",
    "    speedBck::Int64,\n",
    "    speedTrn::Int64,\n",
    "    listParkings::AbstractVector{TParking})\n",
    "\n",
    "    floorGraph = pre_computed_2Dgraph(M)\n",
    "    M0 = pre_computed_3DMatrix(M, StepMax)\n",
    "\n",
    "\n",
    "    unAllocatedTasks = deepcopy(listTasks)\n",
    "\n",
    "    while true\n",
    "\n",
    "        for current_task ∈ unAllocatedTasks\n",
    "\n",
    "            # Start simulation at t = 0\n",
    "            t::Int64 = 0\n",
    "        end\n",
    "\n",
    "        # Replicate a Repeat-Until loop\n",
    "        isempty(unAllocatedTasks) && break\n",
    "    end\n",
    "\n",
    "    # ALERT: FINALISE RETURN FORMAT\n",
    "    return Nothing\n",
    "end"
   ]
  },
  {
   "cell_type": "markdown",
   "metadata": {},
   "source": [
    "$UnAllocatedTasks = ListTasks$ (That is the initial list of tasks)\n",
    "\n",
    "**REPEAT** ------------------------------------------------------------------------------\n",
    "\n",
    "### Optimal time for the best AGV/Task pair\n",
    "\n",
    "Planning time starts at time $t::Int64=0$.\n",
    "\n",
    "#### Assuming some tasks are not allocated yet\n",
    "\n",
    "$ListTimePairings = []$ will contain the list of times: time(AGV $\\alpha_i$, unallocated task $\\tau_j$)\n",
    "\n",
    "- For each Task $\\tau_j$ in $UnAllocatedTasks != []$ (if $UnAllocatedTasks[]$ is not empty):\n",
    "\n",
    "  - For each $\\alpha_i$:\n",
    "\n",
    "    - Take the time of where the AGV is: get the final position $current_i$ of $\\alpha_i$, where $position_i$ is its initial position for the first iteration (if no task), or the position of its final release location $g_j$ given its list of tasks.\n",
    "\n",
    "    - Take the time to complete the new tasks: $offset_i = time\\_2D(\\mathbb{G}, \\alpha_i, g_i)$ when the list of tasks is empty, $offset_i = \\tau_{i, j}$ for $i$ being the last task in $\\alpha_i$.\n",
    "\n",
    "    - Calculate $time(\\alpha_i, g_j) = current_i + offset_i$\n",
    "\n",
    "    - Push the result (with all relevant information) into $ListTimePairings$\n",
    "\n",
    "#### Sort\n",
    "\n",
    "$ListTimePairings$ contains all the current $\\alpha_i$ with each of them has been allocated a single new task. $ListTimePairings$ may be $[]$.\n",
    "\n",
    "- Sort all times in $ListTimePairings$ in increasing order and find the shortest. This is the only pair AGV / Task (if any) that will be added to the planning..\n",
    "\n",
    "- Add the task to that AGV with a time which is the one stored in $ListTimePairings$. Take the previous $PlanningList$ and replace the $\\alpha_i$ which has a new task.\n",
    "\n",
    "- Reorder all the AGVs in decreasing order of total (including updated) release time. Store into $PlanningList$.\n",
    "\n",
    "  - By construction, that list will contain all the tasks which were previously allocated + only one additional task.\n",
    "\n",
    "  - The list should only contain entries where there is a new task added to already existing $\\alpha_i$. In other words, choosing an entry will always guarantee that only a single new task is added to the Planning List.\n",
    "\n",
    "  - We now have a new list of $\\alpha_i=[\\alpha_{i, 0}, \\tau_{i, 1}, , \\tau_{i, 2}, ...]$ where AT MOST ONE of them has an additional task. This is the list to be sorted in decreasing order of total time (total release time + time to achieve new task). ONLY ONE if a task was available or NOTHING if the list of tasks was empty to start with.\n",
    "\n",
    "- Remove the newly allocated task from $UnAllocatedTasks[]$.\n",
    "\n",
    "### Planning Loop\n",
    "\n",
    "$ListAllocationParking = []$: To store all parking allocation as it happens one by one.\n",
    "\n",
    "$PlanningListWithParkings$: To store all the $\\alpha_i$ with their respective parking before planning.\n",
    "\n",
    "#### Allocate parking locations\n",
    "\n",
    "Given the list of tasks and the parking position already allocated in $ListAllocationParking$, create list of remaining parking positions accounting.\n",
    "\n",
    "Looping on the AGVs, allocate to each $\\alpha_i$ the closest parking $Parking_i$ from its last $\\tau_{i, j}$ in its list of tasks. Push each into $PlanningListWithParkings$.\n",
    "\n",
    "Sort $PlanningListWithParkings$ in decreasing time order.\n",
    "\n",
    "#### Start planning loop\n",
    "\n",
    "$ListFullPath = []$: To store all paths one by one.\n",
    "\n",
    "**FOR** ------------\n",
    "\n",
    "For each $\\alpha_i \\in PlanningList$:\n",
    "\n",
    "- $M_i = M_{i-1}$ (Note that $M_0$ is precalculated)\n",
    "\n",
    "- Add slices to $M_i$ so that at least $T_{Max}$ slices of buffer.\n",
    "\n",
    "**Create detailed plan for $Path_i$**\n",
    "\n",
    "- Reset the clock of the AGV: $t_i = 0$\n",
    "\n",
    "- Plan $PlanningListWithParkings[i]$ on $M_i$. The planning must record the times of the final realease time at which all tasks for that $\\alpha_i$ are completed [CHECK: Is the time of parking to be recorded as well]. The result is $FullPath$. If not solution, raise error to increase $T_{Max}$.\n",
    "- Push $FullPath$ into $ListFullPath$\n",
    "\n",
    "- Push found path $FullPath$ into $M_i$ (i.e. obstruct that path).\n",
    "\n",
    "- **NEXT**\n",
    "\n",
    "**UNTIL ** All tasks have been planned\n",
    "\n",
    "$optimise\\_simulation\\_units$: Return list of $\\alpha_i=[\\alpha_{i, 0}, \\tau_{i, 1}, , \\tau_{i, 2}, ...]$, and $ListFullPath$\n"
   ]
  },
  {
   "cell_type": "markdown",
   "metadata": {},
   "source": [
    "---\n",
    "\n",
    "# LOST BLOCK?\n",
    "\n",
    "$\\tau()$ matrix can be done on 2D.\n",
    "TODO: However, the graph needs to be from 3D matrix without path back.\n",
    "\n",
    "- from the 3D matrix\n",
    "- without path back\n",
    "- provide turns. Means 2D for location + 1D (4 values) for direction + 1D for time.\n",
    "- when generating 'next_moves_2D' needs also a counter reflecting how long an AGV stays in a loction going up / down, how long to turn once turning has been decided.\n",
    "- the changes from one node to the other is therefore highly dependent on AGV, therefore need to regenerate full matrix + graph for each path search.\n",
    "\n",
    "---\n"
   ]
  },
  {
   "cell_type": "markdown",
   "metadata": {},
   "source": [
    "# Path search\n",
    "\n",
    "## $time\\_2D(\\mathbb{G}, a, b)$\n",
    "\n",
    "Time the optimal paths in 2D from location $a$ to $b$ in a precomputed graph $\\mathbb{G}$ using Dijkstra.\n",
    "\n",
    "Returns full path and total execution time.\n",
    "\n",
    "All dimensions are in simulation dimensions.\n"
   ]
  },
  {
   "cell_type": "code",
   "execution_count": null,
   "metadata": {},
   "outputs": [
    {
     "data": {
      "text/plain": [
       "time_2D (generic function with 3 methods)"
      ]
     },
     "execution_count": 24,
     "metadata": {},
     "output_type": "execute_result"
    }
   ],
   "source": [
    "function time_2D(G::SimpleWeightedGraph,\n",
    "    start_v::Integer, exit_v::Integer)\n",
    "    return enumerate_paths(dijkstra_shortest_paths(G, start_v), exit_v)\n",
    "end\n",
    "\n",
    "function time_2D(G::SimpleWeightedGraph,\n",
    "    start::CartesianIndex{2}, exit::CartesianIndex{2},\n",
    "    nCol::Integer)\n",
    "    start_v = c2v(start, nCol)\n",
    "    exit_v = c2v(exit, nCol)\n",
    "    return time_2D(G, start_v, exit_v)\n",
    "end\n",
    "\n",
    "function time_2D(G::SimpleWeightedGraph,\n",
    "    start::TLocation, exit::TLocation,\n",
    "    nCol::Integer)\n",
    "    start_v = c2v(start, nCol)\n",
    "    exit_v = c2v(exit, nCol)\n",
    "    return time_2D(G, start_v, exit_v)\n",
    "end"
   ]
  },
  {
   "cell_type": "markdown",
   "metadata": {},
   "source": [
    "## time3D\n",
    "\n",
    "Note: end point is a line in 3D. To arrive as early as possible means penalising delays. Transitions through time located at end point should be 0 when staying anywhere else costs time.\n"
   ]
  },
  {
   "cell_type": "markdown",
   "metadata": {},
   "source": [
    "## Move generator\n"
   ]
  },
  {
   "cell_type": "code",
   "execution_count": null,
   "metadata": {},
   "outputs": [
    {
     "data": {
      "text/plain": [
       "path_a_b (generic function with 1 method)"
      ]
     },
     "execution_count": 25,
     "metadata": {},
     "output_type": "execute_result"
    }
   ],
   "source": [
    "# Returns a list of Cartesian indices for each of the possible moves from a\n",
    "# given position  = Move generator.\n",
    "function next_moves_2D(p::CartesianIndex{2}, nRow, nCol)\n",
    "    x = p[1]\n",
    "    y = p[2]\n",
    "\n",
    "    down = x > 1 ? x - 1 : x\n",
    "    up = x < nRow ? x + 1 : x\n",
    "    left = y > 1 ? y - 1 : y\n",
    "    right = y < nCol ? y + 1 : y\n",
    "    [CartesianIndex(x, y) for x in down:up, y in left:right]\n",
    "end\n",
    "\n",
    "# Given a list of vertices, return the coodinates of the path steps\n",
    "v2c_path(path, nCol) = [v2c(v, nCol) for v in path]\n",
    "\n",
    "\n",
    "# start and exit are CartesianIndex()\n",
    "function path_a_b(FloorPlan, start::CartesianIndex{2}, exit::CartesianIndex{2})\n",
    "\n",
    "    nRow, nCol = size(FloorPlan)\n",
    "\n",
    "    #########################################################################\n",
    "    # Cost of a given path.\n",
    "    # path[1] is the starting point\n",
    "    vObstacles = vFloorPlanObstacles(FloorPlan)\n",
    "\n",
    "    #########################################################################\n",
    "    # Generate graph:\n",
    "    #   iterate through each position\n",
    "    #   create an edge from there to each successive move (N, S, E, W).\n",
    "    #   move into obstacles are penalised with 100, possible moves cost 1.\n",
    "    #\n",
    "    # Missing nodes are created automatically and not used?\n",
    "\n",
    "    G = floorplan_to_graph(FloorPlan)\n",
    "\n",
    "    # Path is from top left to bottom right\n",
    "    path = time_2D(G, start, exit, nCol)\n",
    "    path_time = sum(map(v -> (v in vObstacles ? 100 : 1), path[2:end]))\n",
    "\n",
    "    println(\"Solution has cost $(path_time):\\n\", v2c_path(path, nCol))\n",
    "\n",
    "    return (v2c_path(path, nCol), path_time)\n",
    "end"
   ]
  },
  {
   "cell_type": "code",
   "execution_count": 1,
   "metadata": {
    "dotnet_interactive": {
     "language": "csharp"
    }
   },
   "outputs": [
    {
     "data": {
      "text/plain": [
       "\u001b[32m\u001b[1m    Updating\u001b[22m\u001b[39m registry at `~/.julia/registries/General`\n",
       "\u001b[32m\u001b[1m    Updating\u001b[22m\u001b[39m git-repo `https://github.com/JuliaRegistries/General.git`\n",
       "\u001b[32m\u001b[1m   Resolving\u001b[22m\u001b[39m package versions...\n",
       "\u001b[32m\u001b[1m    Updating\u001b[22m\u001b[39m `~/Development/_langs/julia/site-storage/environments/v1.6/Project.toml`\n",
       " \u001b[90m [093fc24a] \u001b[39m\u001b[92m+ LightGraphs v1.3.5\u001b[39m\n",
       "\u001b[32m\u001b[1m  No Changes\u001b[22m\u001b[39m to `~/Development/_langs/julia/site-storage/environments/v1.6/Manifest.toml`"
      ]
     },
     "execution_count": 1,
     "metadata": {},
     "output_type": "execute_result"
    }
   ],
   "source": []
  },
  {
   "cell_type": "code",
   "execution_count": null,
   "metadata": {
    "dotnet_interactive": {
     "language": "csharp"
    }
   },
   "outputs": [
    {
     "data": {
      "text/plain": [
       "2"
      ]
     },
     "execution_count": 2,
     "metadata": {},
     "output_type": "execute_result"
    }
   ],
   "source": [
    "# IMPORTANT:\n",
    "# 0 - available\n",
    "# 1 - blocked\n",
    "FloorPlan = [\n",
    "    0 0 0 0 0;\n",
    "    1 0 1 0 1;\n",
    "    1 0 1 0 1;\n",
    "    1 0 1 0 1;\n",
    "    1 0 1 0 1;\n",
    "    1 0 1 0 1;\n",
    "    1 0 1 0 1;\n",
    "    1 0 1 0 1;\n",
    "    1 0 1 0 1;\n",
    "    0 0 0 0 0]\n",
    "\n",
    "nRow = size(FloorPlan)[1]\n",
    "nCol = size(FloorPlan)[2]\n",
    "\n",
    "nBots = 2"
   ]
  },
  {
   "cell_type": "code",
   "execution_count": null,
   "metadata": {
    "dotnet_interactive": {
     "language": "csharp"
    }
   },
   "outputs": [],
   "source": [
    "floorG = SimpleDiGraph(nRow * nCol)\n",
    "\n",
    "# Create all horizontal edges\n",
    "for r ∈ 1:nRow\n",
    "    for c ∈ 1:(nCol-1)\n",
    "        if (FloorPlan[r, c] == 0) && (FloorPlan[r, c+1] == 0)\n",
    "            add_edge!(floorG, (r - 1) * nCol + c, (r - 1) * nCol + c + 1)\n",
    "        end\n",
    "    end\n",
    "end\n",
    "\n",
    "# Create all vertical edges\n",
    "for c ∈ 1:nCol\n",
    "    for r ∈ 1:(nRow-1)\n",
    "        if (FloorPlan[r, c] == 0) && (FloorPlan[r+1, c] == 0)\n",
    "            add_edge!(floorG, (r - 1) * nCol + c, (r - 1 + 1) * nCol + c)\n",
    "        end\n",
    "    end\n",
    "end"
   ]
  },
  {
   "cell_type": "code",
   "execution_count": 1,
   "metadata": {
    "dotnet_interactive": {
     "language": "csharp"
    }
   },
   "outputs": [],
   "source": []
  }
 ],
 "metadata": {
  "kernelspec": {
   "display_name": "Julia 1.6.0",
   "language": "julia",
   "name": "julia-1.6"
  },
  "language_info": {
   "file_extension": ".jl",
   "mimetype": "application/julia",
   "name": "julia",
   "version": "1.6.0"
  },
  "toc": {
   "base_numbering": 1,
   "nav_menu": {},
   "number_sections": true,
   "sideBar": true,
   "skip_h1_title": false,
   "title_cell": "Table of Contents",
   "title_sidebar": "Contents",
   "toc_cell": false,
   "toc_position": {},
   "toc_section_display": true,
   "toc_window_display": false
  }
 },
 "nbformat": 4,
 "nbformat_minor": 4
}
